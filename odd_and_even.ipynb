{
  "nbformat": 4,
  "nbformat_minor": 0,
  "metadata": {
    "colab": {
      "provenance": []
    },
    "kernelspec": {
      "name": "python3",
      "display_name": "Python 3"
    },
    "language_info": {
      "name": "python"
    }
  },
  "cells": [
    {
      "cell_type": "markdown",
      "source": [
        "\n",
        "Odd and Even:\n",
        "\n"
      ],
      "metadata": {
        "id": "Mtz756FUMq45"
      }
    },
    {
      "cell_type": "code",
      "execution_count": null,
      "metadata": {
        "id": "bl-rWN7ZMoVD"
      },
      "outputs": [],
      "source": [
        "def main():\n",
        "    x = int(input(\"What is an x? \"))\n",
        "    if is_even(x):    #is this true or false?\n",
        "        print(\"Even\")\n",
        "    else:\n",
        "        print(\"Odd\")\n",
        "\n",
        "\n",
        "def is_even(n):\n",
        "    if n % 2 == 0:\n",
        "        return True\n",
        "    else:\n",
        "        return False\n",
        "\n",
        "main()"
      ]
    }
  ]
}